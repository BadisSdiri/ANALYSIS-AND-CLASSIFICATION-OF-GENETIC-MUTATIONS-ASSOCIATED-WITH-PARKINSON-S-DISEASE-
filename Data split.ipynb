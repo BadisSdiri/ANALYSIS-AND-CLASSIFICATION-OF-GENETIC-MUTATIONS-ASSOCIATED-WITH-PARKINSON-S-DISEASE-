{
 "cells": [
  {
   "cell_type": "code",
   "execution_count": 3,
   "id": "21ac6bbc",
   "metadata": {},
   "outputs": [],
   "source": [
    "import os\n",
    "import shutil\n",
    "from sklearn.model_selection import train_test_split\n",
    "\n",
    "def split_data(source_dir, dest_dir, test_size=0.2):\n",
    "    for label in ['Normal', 'Pathogenic', 'Likely_Pathogenic']:\n",
    "        src_label_dir = os.path.join(source_dir, label)\n",
    "        train_label_dir = os.path.join(dest_dir, 'train', label)\n",
    "        val_label_dir = os.path.join(dest_dir, 'validation', label)\n",
    "        \n",
    "        os.makedirs(train_label_dir, exist_ok=True)\n",
    "        os.makedirs(val_label_dir, exist_ok=True)\n",
    "        \n",
    "        files = os.listdir(src_label_dir)\n",
    "        train_files, val_files = train_test_split(files, test_size=test_size, random_state=42)\n",
    "        \n",
    "        for file in train_files:\n",
    "            shutil.move(os.path.join(src_label_dir, file), os.path.join(train_label_dir, file))\n",
    "        \n",
    "        for file in val_files:\n",
    "            shutil.move(os.path.join(src_label_dir, file), os.path.join(val_label_dir, file))\n",
    "\n",
    "source_dir = r\"C:\\Users\\Badis\\Desktop\\FCGRdatapics\"\n",
    "dest_dir = r\"C:\\Users\\Badis\\Desktop\\FCGRdatapics_Split\"\n",
    "split_data(source_dir, dest_dir)\n"
   ]
  },
  {
   "cell_type": "code",
   "execution_count": null,
   "id": "38543708",
   "metadata": {},
   "outputs": [],
   "source": []
  }
 ],
 "metadata": {
  "kernelspec": {
   "display_name": "Python 3 (ipykernel)",
   "language": "python",
   "name": "python3"
  },
  "language_info": {
   "codemirror_mode": {
    "name": "ipython",
    "version": 3
   },
   "file_extension": ".py",
   "mimetype": "text/x-python",
   "name": "python",
   "nbconvert_exporter": "python",
   "pygments_lexer": "ipython3",
   "version": "3.11.5"
  }
 },
 "nbformat": 4,
 "nbformat_minor": 5
}
